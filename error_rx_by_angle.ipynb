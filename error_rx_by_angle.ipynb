{
 "cells": [
  {
   "cell_type": "markdown",
   "metadata": {},
   "source": [
    "## Rx Gate\n",
    "Sheet conducts the data collection exercise of to find the error rate of the Rx gate by rotation angle.\n",
    "\n",
    "It does this using an IBM simulator loaded with a ibm_brisbane noise model.\n",
    "\n",
    "The results get saved into a .csv for processing and plotting in the post_analysis.ipynb script'\n",
    "\n",
    "Workbook assumes a folder structure to saver the data into and a TOKEN_DOC.py file in the root directory containing a TOKEN_STRING variable to talk with the IBM quantum server."
   ]
  },
  {
   "cell_type": "code",
   "execution_count": null,
   "metadata": {},
   "outputs": [],
   "source": [
    "from qiskit import QuantumCircuit\n",
    "from qiskit_aer import AerSimulator\n",
    "import numpy as np\n",
    "from qiskit.transpiler.preset_passmanagers import generate_preset_pass_manager\n",
    "from qiskit_ibm_runtime import QiskitRuntimeService, SamplerV2 as Sampler\n",
    "import TOKEN_DOC"
   ]
  },
  {
   "cell_type": "code",
   "execution_count": null,
   "metadata": {},
   "outputs": [
    {
     "data": {
      "image/png": "[encoded data removed]",
      "text/plain": [
       "<Figure size 269.064x200.667 with 1 Axes>"
      ]
     },
     "execution_count": 2,
     "metadata": {},
     "output_type": "execute_result"
    }
   ],
   "source": [
    "# Function to create a circuit with an Rx gate\n",
    "# rotate by 2*beta \n",
    "def create_rx_circuit(beta):\n",
    "    qc = QuantumCircuit(1, 1)\n",
    "    qc.rx(2*beta,0)\n",
    "    qc.measure(0,0)\n",
    "    return qc\n",
    "\n",
    "# lets have a quick look at it to make sure it's working\n",
    "qc= create_rx_circuit(beta=np.pi)\n",
    "qc.draw(\"mpl\")"
   ]
  },
  {
   "cell_type": "markdown",
   "metadata": {},
   "source": [
    "### RX gate investigation"
   ]
  },
  {
   "cell_type": "code",
   "execution_count": null,
   "metadata": {},
   "outputs": [],
   "source": [
    "# Define rotation angles to test\n",
    "beta_values = np.pi*np.linspace(0, 0.5, 50)  # Test 50 angles between 0 and π\n",
    "repeat_num = 5 #  number of initialisations to do (jobs)\n",
    "shots = 2**16 # shots per initialisation\n",
    "\n",
    "# load service\n",
    "service = QiskitRuntimeService(channel=\"ibm_quantum\",\n",
    "                               token=TOKEN_DOC.TOKEN_STRING)\n",
    "\n",
    "# Run simulations for each beta\n",
    "simulator = AerSimulator.from_backend(service.backend(\"ibm_brisbane\"))  # Noisy simulator\n",
    "pm_noisy = generate_preset_pass_manager(optimization_level=1, backend=simulator)\n",
    "\n",
    "# and run the experiment!\n",
    "count = 0\n",
    "run = True\n",
    "if run:\n",
    "    error_rates_repeated = []\n",
    "    # loop over jobs\n",
    "    for repeats in range(repeat_num):\n",
    "        error_rates = []\n",
    "        for beta in beta_values:\n",
    "            # set up and run the circuit\n",
    "            qc = create_rx_circuit(beta)\n",
    "            isa_qc = pm_noisy.run(qc)\n",
    "            sampler = Sampler(mode=simulator)\n",
    "            result_noise = sampler.run([isa_qc], shots=shots).result()\n",
    "            \n",
    "            p_noisy = result_noise[0].data.c.get_counts().get(\"1\", 0) / shots\n",
    "            # know expected probability of P(1), see README for more details\n",
    "            p_ideal = np.sin(beta) ** 2\n",
    "\n",
    "            # find abs difference\n",
    "            error = abs(p_noisy - p_ideal)\n",
    "\n",
    "            # and collect\n",
    "            error_rates.append(error)\n",
    "        error_rates_repeated.append(error_rates)"
   ]
  },
  {
   "cell_type": "markdown",
   "metadata": {},
   "source": [
    "### Now Save the collected data"
   ]
  },
  {
   "cell_type": "code",
   "execution_count": null,
   "metadata": {},
   "outputs": [],
   "source": [
    "import pandas as pd\n",
    "\n",
    "# loop through each angle\n",
    "for i_beta, beta in enumerate(beta_values):\n",
    "    err_values = [error_rates_repeated[i][i_beta] for i in range(len(error_rates_repeated))]\n",
    "    # rotate by 2*beta\n",
    "    single_angle_dict = {\"angle\":[2*beta]*len(err_values), \"error_rate\":err_values}\n",
    "\n",
    "    # collect into a dataframe to save\n",
    "    if i_beta == 0:\n",
    "        output_df = pd.DataFrame(single_angle_dict)\n",
    "    else:\n",
    "        output_df = pd.concat([output_df, pd.DataFrame(single_angle_dict)])\n",
    "        \n",
    "output_df.reset_index(inplace=True, drop=True)\n",
    "output_df.to_csv(\"data/2_processed/rx_investigation_results.csv\", index=False)"
   ]
  },
  {
   "cell_type": "markdown",
   "metadata": {},
   "source": [
    "Now can post process the results in post_analysis.ipynb"
   ]
  }
 ],
 "metadata": {
  "kernelspec": {
   "display_name": ".venv",
   "language": "python",
   "name": "python3"
  },
  "language_info": {
   "codemirror_mode": {
    "name": "ipython",
    "version": 3
   },
   "file_extension": ".py",
   "mimetype": "text/x-python",
   "name": "python",
   "nbconvert_exporter": "python",
   "pygments_lexer": "ipython3",
   "version": "3.10.11"
  }
 },
 "nbformat": 4,
 "nbformat_minor": 2
}

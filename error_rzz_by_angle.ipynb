{
 "cells": [
  {
   "cell_type": "markdown",
   "metadata": {},
   "source": [
    "Almost all the error comes from the CNOT gates. Lets investigate whether this varies with beta"
   ]
  },
  {
   "cell_type": "code",
   "execution_count": 21,
   "metadata": {},
   "outputs": [],
   "source": [
    "import pandas as pd"
   ]
  },
  {
   "cell_type": "markdown",
   "metadata": {},
   "source": [
    "## Hardware"
   ]
  },
  {
   "cell_type": "code",
   "execution_count": 22,
   "metadata": {},
   "outputs": [],
   "source": [
    "run_on_hardware = False"
   ]
  },
  {
   "cell_type": "markdown",
   "metadata": {},
   "source": [
    "### Set up server"
   ]
  },
  {
   "cell_type": "code",
   "execution_count": 23,
   "metadata": {},
   "outputs": [],
   "source": [
    "from qiskit import QuantumCircuit\n",
    "from qiskit_aer import AerSimulator\n",
    "from qiskit_ibm_runtime.fake_provider import FakeBrisbane\n",
    "import numpy as np\n",
    "import matplotlib.pyplot as plt\n",
    "from qiskit.transpiler.preset_passmanagers import generate_preset_pass_manager\n",
    "from qiskit_ibm_runtime import QiskitRuntimeService, SamplerV2 as Sampler\n",
    "from qiskit.circuit import Parameter\n",
    "\n",
    "# Make the circuit\n",
    "# Can initialise it all now and pass in a parameter \n",
    "def make_circuit(gamma):\n",
    "    qc = QuantumCircuit(2)\n",
    "    # gamma = Parameter(\"angle\")\n",
    "    # some hadamard gates first to ensure entanglement\n",
    "    qc.h(0)\n",
    "    qc.h(1)\n",
    "    qc.rzz(2 * gamma, 0, 1)  # Virtual Rz(2γ)\n",
    "    qc.metadata = {\"gamma\": gamma}  # Store gamma value\n",
    "    qc.measure_all()\n",
    "    return qc\n",
    "\n",
    "# details to allow it to run later\n",
    "service = QiskitRuntimeService(channel=\"ibm_quantum\",\n",
    "                               token=\"0156ceeea246c36a6d8709ede062eb539a013399bee42bfcf3c06794a37ae931b088295b383df9d16c3fadc5075ed80dfb5bb8c74af06524a5adfd7762705795\")"
   ]
  },
  {
   "cell_type": "code",
   "execution_count": 24,
   "metadata": {},
   "outputs": [
    {
     "data": {
      "image/png": "[encoded data removed]",
      "text/plain": [
       "<Figure size 663.998x284.278 with 1 Axes>"
      ]
     },
     "execution_count": 24,
     "metadata": {},
     "output_type": "execute_result"
    }
   ],
   "source": [
    "circ = make_circuit(gamma=np.pi/2)\n",
    "circ.draw(\"mpl\")"
   ]
  },
  {
   "cell_type": "markdown",
   "metadata": {},
   "source": [
    "### submit to run on ibm hardware"
   ]
  },
  {
   "cell_type": "code",
   "execution_count": 25,
   "metadata": {},
   "outputs": [],
   "source": [
    "# simulator = AerSimulator.from_backend(service.backend(\"ibm_brisbane\"))  # Noisy simulator\n",
    "# pm_noisy = generate_preset_pass_manager(optimization_level=1, backend=simulator)\n",
    "from qiskit_ibm_runtime import Batch\n",
    "# simulator = AerSimulator.from_backend(service.backend(\"ibm_brisbane\"))  # Noisy simulator\n",
    "backend = service.backend(\"ibm_brisbane\")\n",
    "pm_noisy = generate_preset_pass_manager(optimization_level=1, backend=backend)\n",
    "\n",
    "# Define rotation angles to test\n",
    "gamma_values = np.pi*np.linspace(0, 1, 20)  # Test 50 angles between 0 and π\n",
    "\n",
    "# some parameters\n",
    "repeat_num = 1\n",
    "shots = 2**15\n",
    "poss_outcomes = [\"00\", \"01\", \"10\", \"11\"]\n",
    "name_per_outc = [\"gamma\"] + [f\"rep{rep_num}\" for rep_num in range(repeat_num)]\n",
    "isa_all = []\n",
    "count = 0\n",
    "if run_on_hardware:\n",
    "    with Batch(backend=backend) as batch:\n",
    "        sampler = Sampler(mode=batch) #Sampler(mode=simulator)\n",
    "        for repeats in range(repeat_num):\n",
    "            error_rates = []\n",
    "            for gamma_val in gamma_values:\n",
    "                count += 1\n",
    "                # noise\n",
    "                # qc.assign_parameters({gamma: gamma_val})\n",
    "                qc = make_circuit(gamma=gamma_val)\n",
    "                isa_qc = pm_noisy.run(qc)\n",
    "                isa_all.append(isa_qc)\n",
    "\n",
    "        job = sampler.run(isa_all, shots=shots)"
   ]
  }
 ],
 "metadata": {
  "kernelspec": {
   "display_name": ".venv",
   "language": "python",
   "name": "python3"
  },
  "language_info": {
   "codemirror_mode": {
    "name": "ipython",
    "version": 3
   },
   "file_extension": ".py",
   "mimetype": "text/x-python",
   "name": "python",
   "nbconvert_exporter": "python",
   "pygments_lexer": "ipython3",
   "version": "3.10.11"
  }
 },
 "nbformat": 4,
 "nbformat_minor": 2
}

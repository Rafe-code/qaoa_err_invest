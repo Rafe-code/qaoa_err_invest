{
 "cells": [
  {
   "cell_type": "markdown",
   "metadata": {},
   "source": [
    "Almost all the error comes from the CNOT gates. Lets investigate whether this varies with beta"
   ]
  },
  {
   "cell_type": "markdown",
   "metadata": {},
   "source": [
    "## Hardware"
   ]
  },
  {
   "cell_type": "code",
   "execution_count": 51,
   "metadata": {},
   "outputs": [],
   "source": [
    "run_on_hardware = True"
   ]
  },
  {
   "cell_type": "markdown",
   "metadata": {},
   "source": [
    "### Set up server"
   ]
  },
  {
   "cell_type": "code",
   "execution_count": 52,
   "metadata": {},
   "outputs": [],
   "source": [
    "from qiskit import QuantumCircuit\n",
    "from qiskit_aer import AerSimulator\n",
    "from qiskit_ibm_runtime.fake_provider import FakeBrisbane\n",
    "import numpy as np\n",
    "import matplotlib.pyplot as plt\n",
    "from qiskit.transpiler.preset_passmanagers import generate_preset_pass_manager\n",
    "from qiskit_ibm_runtime import QiskitRuntimeService, SamplerV2 as Sampler\n",
    "from qiskit.circuit import Parameter\n",
    "\n",
    "# details to allow it to run later\n",
    "service = QiskitRuntimeService(channel=\"ibm_quantum\",\n",
    "                               token=\"0156ceeea246c36a6d8709ede062eb539a013399bee42bfcf3c06794a37ae931b088295b383df9d16c3fadc5075ed80dfb5bb8c74af06524a5adfd7762705795\")\n",
    "\n",
    "# Make the circuit\n",
    "# Can initialise it all now and pass in a parameter \n",
    "def make_circuit(gamma):\n",
    "    qc = QuantumCircuit(2)\n",
    "    # gamma = Parameter(\"angle\")\n",
    "    # some hadamard gates first to ensure entanglement\n",
    "    qc.h(0)\n",
    "    qc.h(1)\n",
    "    qc.rzz(2 * gamma, 0, 1)  # Virtual Rz(2γ)\n",
    "    qc.measure_all()\n",
    "    return qc"
   ]
  },
  {
   "cell_type": "markdown",
   "metadata": {},
   "source": [
    "### submit to run on ibm hardware"
   ]
  },
  {
   "cell_type": "code",
   "execution_count": 53,
   "metadata": {},
   "outputs": [
    {
     "name": "stderr",
     "output_type": "stream",
     "text": [
      "qiskit_runtime_service.check_pending_jobs:WARNING:2025-04-02 14:12:02,332: The pending jobs limit has been reached. Waiting for job <RuntimeJob('czpkf5mrxz8g008dmf60', 'sampler')> to finish before submitting the next one.\n"
     ]
    },
    {
     "ename": "IBMRuntimeError",
     "evalue": "'Failed to run program: \\'409 Client Error: Conflict for url: https://api.quantum.ibm.com/runtime/jobs. {\"errors\":[{\"message\":\"You have reached the limit of 3 pending  jobs. Please wait for a job to complete or cancel one before submitting anything new.\",\"code\":3458,\"solution\":\"Wait until some previous jobs were finished. You can cancel pending jobs to run new jobs.\",\"more_info\":\"https://docs.quantum-computing.ibm.com/errors\"}]}\\''",
     "output_type": "error",
     "traceback": [
      "\u001b[1;31m---------------------------------------------------------------------------\u001b[0m",
      "\u001b[1;31mIBMRuntimeError\u001b[0m                           Traceback (most recent call last)",
      "Cell \u001b[1;32mIn[53], line 29\u001b[0m\n\u001b[0;32m     27\u001b[0m isa_qc \u001b[38;5;241m=\u001b[39m pm_noisy\u001b[38;5;241m.\u001b[39mrun(qc)\n\u001b[0;32m     28\u001b[0m sampler \u001b[38;5;241m=\u001b[39m Sampler(mode\u001b[38;5;241m=\u001b[39mbatch) \u001b[38;5;66;03m#Sampler(mode=simulator)\u001b[39;00m\n\u001b[1;32m---> 29\u001b[0m job \u001b[38;5;241m=\u001b[39m \u001b[43msampler\u001b[49m\u001b[38;5;241;43m.\u001b[39;49m\u001b[43mrun\u001b[49m\u001b[43m(\u001b[49m\u001b[43m[\u001b[49m\u001b[43misa_qc\u001b[49m\u001b[43m]\u001b[49m\u001b[43m,\u001b[49m\u001b[43m \u001b[49m\u001b[43mshots\u001b[49m\u001b[38;5;241;43m=\u001b[39;49m\u001b[43mshots\u001b[49m\u001b[43m)\u001b[49m\n",
      "File \u001b[1;32mc:\\Users\\rafew\\OneDrive\\Documents\\Qiskit\\.venv\\lib\\site-packages\\qiskit_ibm_runtime\\sampler.py:110\u001b[0m, in \u001b[0;36mSamplerV2.run\u001b[1;34m(self, pubs, shots)\u001b[0m\n\u001b[0;32m    106\u001b[0m coerced_pubs \u001b[38;5;241m=\u001b[39m [SamplerPub\u001b[38;5;241m.\u001b[39mcoerce(pub, shots) \u001b[38;5;28;01mfor\u001b[39;00m pub \u001b[38;5;129;01min\u001b[39;00m pubs]\n\u001b[0;32m    108\u001b[0m validate_classical_registers(coerced_pubs)\n\u001b[1;32m--> 110\u001b[0m \u001b[38;5;28;01mreturn\u001b[39;00m \u001b[38;5;28;43mself\u001b[39;49m\u001b[38;5;241;43m.\u001b[39;49m\u001b[43m_run\u001b[49m\u001b[43m(\u001b[49m\u001b[43mcoerced_pubs\u001b[49m\u001b[43m)\u001b[49m\n",
      "File \u001b[1;32mc:\\Users\\rafew\\OneDrive\\Documents\\Qiskit\\.venv\\lib\\site-packages\\qiskit_ibm_runtime\\base_primitive.py:168\u001b[0m, in \u001b[0;36mBasePrimitiveV2._run\u001b[1;34m(self, pubs)\u001b[0m\n\u001b[0;32m    166\u001b[0m \u001b[38;5;66;03m# Batch or Session\u001b[39;00m\n\u001b[0;32m    167\u001b[0m \u001b[38;5;28;01mif\u001b[39;00m \u001b[38;5;28mself\u001b[39m\u001b[38;5;241m.\u001b[39m_mode:\n\u001b[1;32m--> 168\u001b[0m     \u001b[38;5;28;01mreturn\u001b[39;00m \u001b[38;5;28;43mself\u001b[39;49m\u001b[38;5;241;43m.\u001b[39;49m\u001b[43m_mode\u001b[49m\u001b[38;5;241;43m.\u001b[39;49m\u001b[43m_run\u001b[49m\u001b[43m(\u001b[49m\n\u001b[0;32m    169\u001b[0m \u001b[43m        \u001b[49m\u001b[43mprogram_id\u001b[49m\u001b[38;5;241;43m=\u001b[39;49m\u001b[38;5;28;43mself\u001b[39;49m\u001b[38;5;241;43m.\u001b[39;49m\u001b[43m_program_id\u001b[49m\u001b[43m(\u001b[49m\u001b[43m)\u001b[49m\u001b[43m,\u001b[49m\n\u001b[0;32m    170\u001b[0m \u001b[43m        \u001b[49m\u001b[43minputs\u001b[49m\u001b[38;5;241;43m=\u001b[39;49m\u001b[43mprimitive_inputs\u001b[49m\u001b[43m,\u001b[49m\n\u001b[0;32m    171\u001b[0m \u001b[43m        \u001b[49m\u001b[43moptions\u001b[49m\u001b[38;5;241;43m=\u001b[39;49m\u001b[43mruntime_options\u001b[49m\u001b[43m,\u001b[49m\n\u001b[0;32m    172\u001b[0m \u001b[43m        \u001b[49m\u001b[43mcallback\u001b[49m\u001b[38;5;241;43m=\u001b[39;49m\u001b[43moptions_dict\u001b[49m\u001b[38;5;241;43m.\u001b[39;49m\u001b[43mget\u001b[49m\u001b[43m(\u001b[49m\u001b[38;5;124;43m\"\u001b[39;49m\u001b[38;5;124;43menvironment\u001b[39;49m\u001b[38;5;124;43m\"\u001b[39;49m\u001b[43m,\u001b[49m\u001b[43m \u001b[49m\u001b[43m{\u001b[49m\u001b[43m}\u001b[49m\u001b[43m)\u001b[49m\u001b[38;5;241;43m.\u001b[39;49m\u001b[43mget\u001b[49m\u001b[43m(\u001b[49m\u001b[38;5;124;43m\"\u001b[39;49m\u001b[38;5;124;43mcallback\u001b[39;49m\u001b[38;5;124;43m\"\u001b[39;49m\u001b[43m,\u001b[49m\u001b[43m \u001b[49m\u001b[38;5;28;43;01mNone\u001b[39;49;00m\u001b[43m)\u001b[49m\u001b[43m,\u001b[49m\n\u001b[0;32m    173\u001b[0m \u001b[43m        \u001b[49m\u001b[43mresult_decoder\u001b[49m\u001b[38;5;241;43m=\u001b[39;49m\u001b[43mDEFAULT_DECODERS\u001b[49m\u001b[38;5;241;43m.\u001b[39;49m\u001b[43mget\u001b[49m\u001b[43m(\u001b[49m\u001b[38;5;28;43mself\u001b[39;49m\u001b[38;5;241;43m.\u001b[39;49m\u001b[43m_program_id\u001b[49m\u001b[43m(\u001b[49m\u001b[43m)\u001b[49m\u001b[43m)\u001b[49m\u001b[43m,\u001b[49m\n\u001b[0;32m    174\u001b[0m \u001b[43m    \u001b[49m\u001b[43m)\u001b[49m\n\u001b[0;32m    176\u001b[0m \u001b[38;5;28;01mif\u001b[39;00m \u001b[38;5;28mself\u001b[39m\u001b[38;5;241m.\u001b[39m_backend:\n\u001b[0;32m    177\u001b[0m     runtime_options[\u001b[38;5;124m\"\u001b[39m\u001b[38;5;124mbackend\u001b[39m\u001b[38;5;124m\"\u001b[39m] \u001b[38;5;241m=\u001b[39m \u001b[38;5;28mself\u001b[39m\u001b[38;5;241m.\u001b[39m_backend\n",
      "File \u001b[1;32mc:\\Users\\rafew\\OneDrive\\Documents\\Qiskit\\.venv\\lib\\site-packages\\qiskit_ibm_runtime\\session.py:41\u001b[0m, in \u001b[0;36m_active_session.<locals>._wrapper\u001b[1;34m(self, *args, **kwargs)\u001b[0m\n\u001b[0;32m     39\u001b[0m \u001b[38;5;28;01mif\u001b[39;00m \u001b[38;5;129;01mnot\u001b[39;00m \u001b[38;5;28mself\u001b[39m\u001b[38;5;241m.\u001b[39m_active:\n\u001b[0;32m     40\u001b[0m     \u001b[38;5;28;01mraise\u001b[39;00m IBMRuntimeError(\u001b[38;5;124m\"\u001b[39m\u001b[38;5;124mThe session is closed.\u001b[39m\u001b[38;5;124m\"\u001b[39m)\n\u001b[1;32m---> 41\u001b[0m \u001b[38;5;28;01mreturn\u001b[39;00m func(\u001b[38;5;28mself\u001b[39m, \u001b[38;5;241m*\u001b[39margs, \u001b[38;5;241m*\u001b[39m\u001b[38;5;241m*\u001b[39mkwargs)\n",
      "File \u001b[1;32mc:\\Users\\rafew\\OneDrive\\Documents\\Qiskit\\.venv\\lib\\site-packages\\qiskit_ibm_runtime\\session.py:169\u001b[0m, in \u001b[0;36mSession._run\u001b[1;34m(self, program_id, inputs, options, callback, result_decoder)\u001b[0m\n\u001b[0;32m    166\u001b[0m options[\u001b[38;5;124m\"\u001b[39m\u001b[38;5;124mbackend\u001b[39m\u001b[38;5;124m\"\u001b[39m] \u001b[38;5;241m=\u001b[39m \u001b[38;5;28mself\u001b[39m\u001b[38;5;241m.\u001b[39m_backend\n\u001b[0;32m    168\u001b[0m \u001b[38;5;28;01mif\u001b[39;00m \u001b[38;5;28misinstance\u001b[39m(\u001b[38;5;28mself\u001b[39m\u001b[38;5;241m.\u001b[39m_service, QiskitRuntimeService):\n\u001b[1;32m--> 169\u001b[0m     job \u001b[38;5;241m=\u001b[39m \u001b[38;5;28;43mself\u001b[39;49m\u001b[38;5;241;43m.\u001b[39;49m\u001b[43m_service\u001b[49m\u001b[38;5;241;43m.\u001b[39;49m\u001b[43m_run\u001b[49m\u001b[43m(\u001b[49m\n\u001b[0;32m    170\u001b[0m \u001b[43m        \u001b[49m\u001b[43mprogram_id\u001b[49m\u001b[38;5;241;43m=\u001b[39;49m\u001b[43mprogram_id\u001b[49m\u001b[43m,\u001b[49m\u001b[43m  \u001b[49m\u001b[38;5;66;43;03m# type: ignore[arg-type]\u001b[39;49;00m\n\u001b[0;32m    171\u001b[0m \u001b[43m        \u001b[49m\u001b[43moptions\u001b[49m\u001b[38;5;241;43m=\u001b[39;49m\u001b[43moptions\u001b[49m\u001b[43m,\u001b[49m\n\u001b[0;32m    172\u001b[0m \u001b[43m        \u001b[49m\u001b[43minputs\u001b[49m\u001b[38;5;241;43m=\u001b[39;49m\u001b[43minputs\u001b[49m\u001b[43m,\u001b[49m\n\u001b[0;32m    173\u001b[0m \u001b[43m        \u001b[49m\u001b[43msession_id\u001b[49m\u001b[38;5;241;43m=\u001b[39;49m\u001b[38;5;28;43mself\u001b[39;49m\u001b[38;5;241;43m.\u001b[39;49m\u001b[43m_session_id\u001b[49m\u001b[43m,\u001b[49m\n\u001b[0;32m    174\u001b[0m \u001b[43m        \u001b[49m\u001b[43mstart_session\u001b[49m\u001b[38;5;241;43m=\u001b[39;49m\u001b[38;5;28;43;01mFalse\u001b[39;49;00m\u001b[43m,\u001b[49m\n\u001b[0;32m    175\u001b[0m \u001b[43m        \u001b[49m\u001b[43mcallback\u001b[49m\u001b[38;5;241;43m=\u001b[39;49m\u001b[43mcallback\u001b[49m\u001b[43m,\u001b[49m\n\u001b[0;32m    176\u001b[0m \u001b[43m        \u001b[49m\u001b[43mresult_decoder\u001b[49m\u001b[38;5;241;43m=\u001b[39;49m\u001b[43mresult_decoder\u001b[49m\u001b[43m,\u001b[49m\n\u001b[0;32m    177\u001b[0m \u001b[43m    \u001b[49m\u001b[43m)\u001b[49m\n\u001b[0;32m    179\u001b[0m     \u001b[38;5;28;01mif\u001b[39;00m \u001b[38;5;28mself\u001b[39m\u001b[38;5;241m.\u001b[39m_backend \u001b[38;5;129;01mis\u001b[39;00m \u001b[38;5;28;01mNone\u001b[39;00m:\n\u001b[0;32m    180\u001b[0m         \u001b[38;5;28mself\u001b[39m\u001b[38;5;241m.\u001b[39m_backend \u001b[38;5;241m=\u001b[39m job\u001b[38;5;241m.\u001b[39mbackend()\n",
      "File \u001b[1;32mc:\\Users\\rafew\\OneDrive\\Documents\\Qiskit\\.venv\\lib\\site-packages\\qiskit_ibm_runtime\\qiskit_runtime_service.py:862\u001b[0m, in \u001b[0;36mQiskitRuntimeService._run\u001b[1;34m(self, program_id, inputs, options, callback, result_decoder, session_id, start_session)\u001b[0m\n\u001b[0;32m    860\u001b[0m     \u001b[38;5;28;01mif\u001b[39;00m ex\u001b[38;5;241m.\u001b[39mstatus_code \u001b[38;5;241m==\u001b[39m \u001b[38;5;241m404\u001b[39m:\n\u001b[0;32m    861\u001b[0m         \u001b[38;5;28;01mraise\u001b[39;00m RuntimeProgramNotFound(\u001b[38;5;124mf\u001b[39m\u001b[38;5;124m\"\u001b[39m\u001b[38;5;124mProgram not found: \u001b[39m\u001b[38;5;132;01m{\u001b[39;00mex\u001b[38;5;241m.\u001b[39mmessage\u001b[38;5;132;01m}\u001b[39;00m\u001b[38;5;124m\"\u001b[39m) \u001b[38;5;28;01mfrom\u001b[39;00m\u001b[38;5;250m \u001b[39m\u001b[38;5;28;01mNone\u001b[39;00m\n\u001b[1;32m--> 862\u001b[0m     \u001b[38;5;28;01mraise\u001b[39;00m IBMRuntimeError(\u001b[38;5;124mf\u001b[39m\u001b[38;5;124m\"\u001b[39m\u001b[38;5;124mFailed to run program: \u001b[39m\u001b[38;5;132;01m{\u001b[39;00mex\u001b[38;5;132;01m}\u001b[39;00m\u001b[38;5;124m\"\u001b[39m) \u001b[38;5;28;01mfrom\u001b[39;00m\u001b[38;5;250m \u001b[39m\u001b[38;5;28;01mNone\u001b[39;00m\n\u001b[0;32m    864\u001b[0m \u001b[38;5;28;01mif\u001b[39;00m response[\u001b[38;5;124m\"\u001b[39m\u001b[38;5;124mbackend\u001b[39m\u001b[38;5;124m\"\u001b[39m] \u001b[38;5;129;01mand\u001b[39;00m response[\u001b[38;5;124m\"\u001b[39m\u001b[38;5;124mbackend\u001b[39m\u001b[38;5;124m\"\u001b[39m] \u001b[38;5;241m!=\u001b[39m qrt_options\u001b[38;5;241m.\u001b[39mget_backend_name():\n\u001b[0;32m    865\u001b[0m     backend \u001b[38;5;241m=\u001b[39m \u001b[38;5;28mself\u001b[39m\u001b[38;5;241m.\u001b[39mbackend(name\u001b[38;5;241m=\u001b[39mresponse[\u001b[38;5;124m\"\u001b[39m\u001b[38;5;124mbackend\u001b[39m\u001b[38;5;124m\"\u001b[39m], instance\u001b[38;5;241m=\u001b[39mhgp_name)\n",
      "\u001b[1;31mIBMRuntimeError\u001b[0m: 'Failed to run program: \\'409 Client Error: Conflict for url: https://api.quantum.ibm.com/runtime/jobs. {\"errors\":[{\"message\":\"You have reached the limit of 3 pending  jobs. Please wait for a job to complete or cancel one before submitting anything new.\",\"code\":3458,\"solution\":\"Wait until some previous jobs were finished. You can cancel pending jobs to run new jobs.\",\"more_info\":\"https://docs.quantum-computing.ibm.com/errors\"}]}\\''"
     ]
    }
   ],
   "source": [
    "# simulator = AerSimulator.from_backend(service.backend(\"ibm_brisbane\"))  # Noisy simulator\n",
    "# pm_noisy = generate_preset_pass_manager(optimization_level=1, backend=simulator)\n",
    "from qiskit_ibm_runtime import Batch\n",
    "# simulator = AerSimulator.from_backend(service.backend(\"ibm_brisbane\"))  # Noisy simulator\n",
    "backend = service.backend(\"ibm_brisbane\")\n",
    "pm_noisy = generate_preset_pass_manager(optimization_level=1, backend=backend)\n",
    "\n",
    "# Define rotation angles to test\n",
    "gamma_values = np.pi*np.linspace(0, 1, 20)  # Test 50 angles between 0 and π\n",
    "\n",
    "# some parameters\n",
    "repeat_num = 1\n",
    "shots = 2**15\n",
    "poss_outcomes = [\"00\", \"01\", \"10\", \"11\"]\n",
    "name_per_outc = [\"gamma\"] + [f\"rep{rep_num}\" for rep_num in range(repeat_num)]\n",
    "results_dict = {outcome: {name : [] for name in name_per_outc} for outcome in poss_outcomes}\n",
    "\n",
    "if run_on_hardware:\n",
    "    with Batch(backend=backend) as batch:\n",
    "        for repeats in range(repeat_num):\n",
    "            error_rates = []\n",
    "            for gamma_val in gamma_values:\n",
    "                # noise\n",
    "                # qc.assign_parameters({gamma: gamma_val})\n",
    "                qc = make_circuit(gamma=gamma_val)\n",
    "                isa_qc = pm_noisy.run(qc)\n",
    "                sampler = Sampler(mode=batch) #Sampler(mode=simulator)\n",
    "                job = sampler.run([isa_qc], shots=shots)"
   ]
  },
  {
   "cell_type": "markdown",
   "metadata": {},
   "source": [
    "### Fetch results from ibm server\n",
    "Easiest to just grab job ids manually - know it will keep on working"
   ]
  },
  {
   "cell_type": "code",
   "execution_count": null,
   "metadata": {},
   "outputs": [],
   "source": [
    "job_ids_1 = [\"czkc0h2qw630008tbfjg\", \"czkc0b1qw630008tbfg0\",\n",
    "\"czkc030qw630008tbfd0\",\"czkbzyfp3xeg008h50mg\",\n",
    "\"czkbzszp3xeg008h50j0\",\"czkbznepj4bg008yvaqg\",\n",
    "\"czkbzddpj4bg008yvahg\",\"czkbz8na980g008hgx80\",\n",
    "\"czkbz44qw630008tbewg\",\"czkbyv3qw630008tbes0\",\n",
    "\"czkbymj112c0008amy2g\",\"czkbydhpj4bg008yva5g\",\n",
    "\"czkby91112c0008amxtg\",\"czkby08qw630008tbeag\",\n",
    "\"czkbxt7a980g008hgwng\",\"czkbxnpp3xeg008h4z5g\",\n",
    "\"czkbxe5p3xeg008h4z10\",\"czkbx6mtj3e0008jprkg\",\n",
    "\"czkbx64tj3e0008jprhg\",\"czkbx5ma980g008hgwbg\"]"
   ]
  },
  {
   "cell_type": "code",
   "execution_count": null,
   "metadata": {},
   "outputs": [],
   "source": [
    "job_ids_2 = [\"czkc0h2qw630008tbfjg\", \"czkc0b1qw630008tbfg0\",\n",
    "\"czkc030qw630008tbfd0\",\"czkbzyfp3xeg008h50mg\",\n",
    "\"czkbzszp3xeg008h50j0\",\"czkbznepj4bg008yvaqg\",\n",
    "\"czkbzddpj4bg008yvahg\",\"czkbz8na980g008hgx80\",\n",
    "\"czkbz44qw630008tbewg\",\"czkbyv3qw630008tbes0\",\n",
    "\"czkbymj112c0008amy2g\",\"czkbydhpj4bg008yva5g\",\n",
    "\"czkby91112c0008amxtg\",\"czkby08qw630008tbeag\",\n",
    "\"czkbxt7a980g008hgwng\",\"czkbxnpp3xeg008h4z5g\",\n",
    "\"czkbxe5p3xeg008h4z10\",\"czkbx6mtj3e0008jprkg\",\n",
    "\"czkbx64tj3e0008jprhg\",\"czkbx5ma980g008hgwbg\"]"
   ]
  },
  {
   "cell_type": "code",
   "execution_count": 45,
   "metadata": {},
   "outputs": [],
   "source": [
    "def process_batch_results(ids:list[str]):\n",
    "    \"\"\"from list of job id strings get the results from ibm\n",
    "    server and put them into a dict to be plotted\"\"\"\n",
    "    count = 0\n",
    "    for repeats in range(repeat_num):\n",
    "        for gamma_val in gamma_values:      \n",
    "            # expect them all with equal probability\n",
    "            # produce error plots for each possibility\n",
    "            results = service.job(job_id=ids[count]).result()\n",
    "            count += 1\n",
    "            for outcome in poss_outcomes:\n",
    "                outcome_num = results[0].data.meas.get_counts().get(outcome, 0)\n",
    "                outcome_diff = [abs(outcome_num - shots/4)]\n",
    "                results_dict[outcome][\"gamma\"].append(gamma_val)\n",
    "                results_dict[outcome][f\"rep{repeats}\"].append(outcome_diff)\n",
    "\n"
   ]
  },
  {
   "cell_type": "code",
   "execution_count": 46,
   "metadata": {},
   "outputs": [],
   "source": [
    "results_dict = process_batch_results(job_ids_1)"
   ]
  },
  {
   "cell_type": "markdown",
   "metadata": {},
   "source": [
    "### plot"
   ]
  },
  {
   "cell_type": "code",
   "execution_count": null,
   "metadata": {},
   "outputs": [],
   "source": [
    "# Plot results\n",
    "def plot_results(results_plot, fname):\n",
    "    fig, axs = plt.subplots(2, 2, figsize=(16, 10))\n",
    "    axs_flat = axs.flatten()\n",
    "    clrs = [\"b\", \"r\", \"g\", \"m\"]\n",
    "    for i, outcome in enumerate(poss_outcomes):\n",
    "        axs_flat[i].plot(np.array(results_plot[outcome][\"gamma\"])/np.pi,\n",
    "                np.array(results_plot[outcome][\"rep0\"])/(shots/4),\n",
    "                marker=\"o\", linestyle=\"-\", color=clrs[i], label=f\"ZZ Error: {outcome}\")\n",
    "        # plt.figure(figsize=(8, 5))\n",
    "        # plt.errorbar(gamma_values/np.pi, err_rate_means, yerr=np.array(err_rate_std)/2,\n",
    "        #              )\n",
    "        axs_flat[i].set_xlabel(r\"γ/pi  (rotation angle)\")\n",
    "        axs_flat[i].set_ylabel(\"Error rate\")\n",
    "        # axs_flat[i].set_title(\"Error Rate of ZZ Mixer Gate on IBM Noise Model\")\n",
    "        axs_flat[i].legend()\n",
    "        axs_flat[i].grid()\n",
    "    # ax.show()\n",
    "    plt.savefig(fname, bbox_inches=\"tight\")"
   ]
  },
  {
   "cell_type": "code",
   "execution_count": 48,
   "metadata": {},
   "outputs": [
    {
     "ename": "TypeError",
     "evalue": "'NoneType' object is not subscriptable",
     "output_type": "error",
     "traceback": [
      "\u001b[1;31m---------------------------------------------------------------------------\u001b[0m",
      "\u001b[1;31mTypeError\u001b[0m                                 Traceback (most recent call last)",
      "Cell \u001b[1;32mIn[48], line 1\u001b[0m\n\u001b[1;32m----> 1\u001b[0m \u001b[43mplot_results\u001b[49m\u001b[43m(\u001b[49m\u001b[43mresults_dict\u001b[49m\u001b[43m,\u001b[49m\u001b[43m \u001b[49m\u001b[43mfname\u001b[49m\u001b[38;5;241;43m=\u001b[39;49m\u001b[38;5;124;43m\"\u001b[39;49m\u001b[38;5;124;43mplots/rzz_err_by_angle_hardware.png\u001b[39;49m\u001b[38;5;124;43m\"\u001b[39;49m\u001b[43m)\u001b[49m\n",
      "Cell \u001b[1;32mIn[47], line 7\u001b[0m, in \u001b[0;36mplot_results\u001b[1;34m(results_dict, fname)\u001b[0m\n\u001b[0;32m      5\u001b[0m clrs \u001b[38;5;241m=\u001b[39m [\u001b[38;5;124m\"\u001b[39m\u001b[38;5;124mb\u001b[39m\u001b[38;5;124m\"\u001b[39m, \u001b[38;5;124m\"\u001b[39m\u001b[38;5;124mr\u001b[39m\u001b[38;5;124m\"\u001b[39m, \u001b[38;5;124m\"\u001b[39m\u001b[38;5;124mg\u001b[39m\u001b[38;5;124m\"\u001b[39m, \u001b[38;5;124m\"\u001b[39m\u001b[38;5;124mm\u001b[39m\u001b[38;5;124m\"\u001b[39m]\n\u001b[0;32m      6\u001b[0m \u001b[38;5;28;01mfor\u001b[39;00m i, outcome \u001b[38;5;129;01min\u001b[39;00m \u001b[38;5;28menumerate\u001b[39m(poss_outcomes):\n\u001b[1;32m----> 7\u001b[0m     axs_flat[i]\u001b[38;5;241m.\u001b[39mplot(np\u001b[38;5;241m.\u001b[39marray(\u001b[43mresults_dict\u001b[49m\u001b[43m[\u001b[49m\u001b[43moutcome\u001b[49m\u001b[43m]\u001b[49m[\u001b[38;5;124m\"\u001b[39m\u001b[38;5;124mgamma\u001b[39m\u001b[38;5;124m\"\u001b[39m])\u001b[38;5;241m/\u001b[39mnp\u001b[38;5;241m.\u001b[39mpi,\n\u001b[0;32m      8\u001b[0m             np\u001b[38;5;241m.\u001b[39marray(results_dict[outcome][\u001b[38;5;124m\"\u001b[39m\u001b[38;5;124mrep0\u001b[39m\u001b[38;5;124m\"\u001b[39m])\u001b[38;5;241m/\u001b[39m(shots\u001b[38;5;241m/\u001b[39m\u001b[38;5;241m4\u001b[39m),\n\u001b[0;32m      9\u001b[0m             marker\u001b[38;5;241m=\u001b[39m\u001b[38;5;124m\"\u001b[39m\u001b[38;5;124mo\u001b[39m\u001b[38;5;124m\"\u001b[39m, linestyle\u001b[38;5;241m=\u001b[39m\u001b[38;5;124m\"\u001b[39m\u001b[38;5;124m-\u001b[39m\u001b[38;5;124m\"\u001b[39m, color\u001b[38;5;241m=\u001b[39mclrs[i], label\u001b[38;5;241m=\u001b[39m\u001b[38;5;124mf\u001b[39m\u001b[38;5;124m\"\u001b[39m\u001b[38;5;124mZZ Error: \u001b[39m\u001b[38;5;132;01m{\u001b[39;00moutcome\u001b[38;5;132;01m}\u001b[39;00m\u001b[38;5;124m\"\u001b[39m)\n\u001b[0;32m     10\u001b[0m     \u001b[38;5;66;03m# plt.figure(figsize=(8, 5))\u001b[39;00m\n\u001b[0;32m     11\u001b[0m     \u001b[38;5;66;03m# plt.errorbar(gamma_values/np.pi, err_rate_means, yerr=np.array(err_rate_std)/2,\u001b[39;00m\n\u001b[0;32m     12\u001b[0m     \u001b[38;5;66;03m#              )\u001b[39;00m\n\u001b[0;32m     13\u001b[0m     axs_flat[i]\u001b[38;5;241m.\u001b[39mset_xlabel(\u001b[38;5;124mr\u001b[39m\u001b[38;5;124m\"\u001b[39m\u001b[38;5;124mγ/pi  (rotation angle)\u001b[39m\u001b[38;5;124m\"\u001b[39m)\n",
      "\u001b[1;31mTypeError\u001b[0m: 'NoneType' object is not subscriptable"
     ]
    },
    {
     "data": {
      "image/png": "[encoded data removed]",
      "text/plain": [
       "<Figure size 1600x1000 with 4 Axes>"
      ]
     },
     "metadata": {},
     "output_type": "display_data"
    }
   ],
   "source": [
    "plot_results(results_dict, fname=\"plots/rzz_err_by_angle_hardware.png\")"
   ]
  },
  {
   "cell_type": "markdown",
   "metadata": {},
   "source": [
    "## Simulator"
   ]
  },
  {
   "cell_type": "code",
   "execution_count": null,
   "metadata": {},
   "outputs": [
    {
     "data": {
      "text/plain": [
       "DataBin(meas=BitArray(<shape=(), num_shots=65536, num_bits=1>))"
      ]
     },
     "execution_count": 8,
     "metadata": {},
     "output_type": "execute_result"
    }
   ],
   "source": [
    "from qiskit import QuantumCircuit\n",
    "from qiskit_aer import AerSimulator\n",
    "from qiskit_ibm_runtime.fake_provider import FakeBrisbane\n",
    "import numpy as np\n",
    "import matplotlib.pyplot as plt\n",
    "from qiskit.transpiler.preset_passmanagers import generate_preset_pass_manager\n",
    "from qiskit_ibm_runtime import QiskitRuntimeService, SamplerV2 as Sampler\n",
    "from qiskit.circuit import Parameter\n",
    "\n",
    "# details to allow it to run later\n",
    "service = QiskitRuntimeService(channel=\"ibm_quantum\",\n",
    "                               token=\"0156ceeea246c36a6d8709ede062eb539a013399bee42bfcf3c06794a37ae931b088295b383df9d16c3fadc5075ed80dfb5bb8c74af06524a5adfd7762705795\")\n",
    "\n",
    "# Make the circuit\n",
    "# Can initialise it all now and pass in a parameter \n",
    "def make_circuit(gamma):\n",
    "    qc = QuantumCircuit(2)\n",
    "    # gamma = Parameter(\"angle\")\n",
    "    # some hadamard gates first to ensure entanglement\n",
    "    qc.h(0)\n",
    "    qc.h(1)\n",
    "    qc.rzz(2 * gamma, 0, 1)  # Virtual Rz(2γ)\n",
    "    qc.measure_all()\n",
    "    return qc"
   ]
  },
  {
   "cell_type": "code",
   "execution_count": null,
   "metadata": {},
   "outputs": [],
   "source": [
    "# simulator = AerSimulator.from_backend(service.backend(\"ibm_brisbane\"))  # Noisy simulator\n",
    "# pm_noisy = generate_preset_pass_manager(optimization_level=1, backend=simulator)\n",
    "from qiskit_ibm_runtime import Batch\n",
    "# simulator = AerSimulator.from_backend(service.backend(\"ibm_brisbane\"))  # Noisy simulator\n",
    "backend = service.backend(\"ibm_brisbane\")\n",
    "pm_noisy = generate_preset_pass_manager(optimization_level=1, backend=backend)\n",
    "\n",
    "# Define rotation angles to test\n",
    "gamma_values = np.pi*np.linspace(0, 1, 20)  # Test 50 angles between 0 and π\n",
    "\n",
    "# some parameters\n",
    "repeat_num = 1\n",
    "shots = 2**16\n",
    "poss_outcomes = [\"00\", \"01\", \"10\", \"11\"]\n",
    "name_per_outc = [\"gamma\"] + [f\"rep{rep_num}\" for rep_num in range(repeat_num)]\n",
    "results_dict = {outcome: {name : [] for name in name_per_outc} for outcome in poss_outcomes}\n",
    "ids = []\n",
    "count = 3\n",
    "with Batch(backend=backend) as batch:\n",
    "    for repeats in range(repeat_num):\n",
    "        error_rates = []\n",
    "        for gamma_val in gamma_values:\n",
    "            # noise\n",
    "            # qc.assign_parameters({gamma: gamma_val})\n",
    "            qc = make_circuit(gamma=gamma_val)\n",
    "            isa_qc = pm_noisy.run(qc)\n",
    "            sampler = Sampler(mode=batch) #Sampler(mode=simulator)\n",
    "            job = sampler.run([isa_qc], shots=shots)\n",
    "            \n",
    "            # some packing\n",
    "            result_noise = service.job(job_id=ids[count]).results()\n",
    "            count += 1\n",
    "            err_per_outcome = []\n",
    "            for outcome in poss_outcomes:\n",
    "                outcome_num = result_noise[0].data.meas.get_counts().get(outcome, 0)\n",
    "                outcome_diff = [abs(outcome_num - shots/4)]\n",
    "                results_dict[outcome][\"gamma\"].append(gamma_val)\n",
    "                results_dict[outcome][f\"rep{repeats}\"].append(outcome_diff)\n",
    "\n",
    "\n",
    "\n"
   ]
  },
  {
   "cell_type": "code",
   "execution_count": null,
   "metadata": {},
   "outputs": [],
   "source": [
    "# Plot results\n",
    "fig, axs = plt.subplots(2, 2, figsize=(16, 10))\n",
    "axs_flat = axs.flatten()\n",
    "clrs = [\"b\", \"r\", \"g\", \"m\"]\n",
    "for i, outcome in enumerate(poss_outcomes):\n",
    "    axs_flat[i].plot(np.array(results_dict[outcome][\"gamma\"])/np.pi,\n",
    "            np.array(results_dict[outcome][\"rep0\"])/(shots/4),\n",
    "            marker=\"o\", linestyle=\"-\", color=clrs[i], label=f\"ZZ Error: {outcome}\")\n",
    "    # plt.figure(figsize=(8, 5))\n",
    "    # plt.errorbar(gamma_values/np.pi, err_rate_means, yerr=np.array(err_rate_std)/2,\n",
    "    #              )\n",
    "    axs_flat[i].set_xlabel(r\"γ/pi  (rotation angle)\")\n",
    "    axs_flat[i].set_ylabel(\"Error rate\")\n",
    "    # axs_flat[i].set_title(\"Error Rate of ZZ Mixer Gate on IBM Noise Model\")\n",
    "    axs_flat[i].legend()\n",
    "    axs_flat[i].grid()\n",
    "# ax.show()\n",
    "plt.savefig(\"rzz_err_by_angle_simulator.png\", bbox_inches=\"tight\")"
   ]
  }
 ],
 "metadata": {
  "kernelspec": {
   "display_name": ".venv",
   "language": "python",
   "name": "python3"
  },
  "language_info": {
   "codemirror_mode": {
    "name": "ipython",
    "version": 3
   },
   "file_extension": ".py",
   "mimetype": "text/x-python",
   "name": "python",
   "nbconvert_exporter": "python",
   "pygments_lexer": "ipython3",
   "version": "3.10.11"
  }
 },
 "nbformat": 4,
 "nbformat_minor": 2
}
